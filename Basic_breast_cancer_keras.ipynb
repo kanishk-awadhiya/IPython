{
  "nbformat": 4,
  "nbformat_minor": 0,
  "metadata": {
    "colab": {
      "name": "Basic_breast_cancer_keras.ipynb",
      "provenance": []
    },
    "kernelspec": {
      "name": "python3",
      "display_name": "Python 3"
    }
  },
  "cells": [
    {
      "cell_type": "markdown",
      "metadata": {
        "id": "0_Ztl6YiUwW8",
        "colab_type": "text"
      },
      "source": [
        "#### Import the required libraries"
      ]
    },
    {
      "cell_type": "code",
      "metadata": {
        "id": "JQfsPdzbvhdH",
        "colab_type": "code",
        "colab": {}
      },
      "source": [
        "import matplotlib.pyplot as plt\n",
        "import tensorflow.keras\n",
        "from tensorflow.keras.models import Sequential\n",
        "from tensorflow.keras.layers import Dense, Dropout, Flatten\n",
        "from tensorflow.keras import backend as K\n",
        "from sklearn.datasets import load_breast_cancer \n",
        "from sklearn.model_selection import train_test_split"
      ],
      "execution_count": 38,
      "outputs": []
    },
    {
      "cell_type": "markdown",
      "metadata": {
        "id": "QSYbKvOYU082",
        "colab_type": "text"
      },
      "source": [
        "#### Load the dataset"
      ]
    },
    {
      "cell_type": "code",
      "metadata": {
        "id": "1eJLP3DnUvj0",
        "colab_type": "code",
        "colab": {
          "base_uri": "https://localhost:8080/",
          "height": 34
        },
        "outputId": "62f0aca7-c303-4e18-a261-3e46e2477ebc"
      },
      "source": [
        "X, y = load_breast_cancer(return_X_y=True)\n",
        "print(X.shape, y.shape)"
      ],
      "execution_count": 39,
      "outputs": [
        {
          "output_type": "stream",
          "text": [
            "(569, 30) (569,)\n"
          ],
          "name": "stdout"
        }
      ]
    },
    {
      "cell_type": "code",
      "metadata": {
        "id": "F8Vd2itUV_gY",
        "colab_type": "code",
        "colab": {}
      },
      "source": [
        "X_train, X_test, y_train, y_test = train_test_split(X, y, test_size=0.2)"
      ],
      "execution_count": 40,
      "outputs": []
    },
    {
      "cell_type": "code",
      "metadata": {
        "id": "AfjDKWoaVFCG",
        "colab_type": "code",
        "colab": {}
      },
      "source": [
        "model = Sequential([Dense(10, activation='relu', input_shape = (30,)),\n",
        "                   Dropout(0.2),\n",
        "                   Dense(20, activation='relu'),\n",
        "                   Dense(1, activation='sigmoid')])"
      ],
      "execution_count": 41,
      "outputs": []
    },
    {
      "cell_type": "code",
      "metadata": {
        "id": "zOpWjJsOVnjv",
        "colab_type": "code",
        "colab": {
          "base_uri": "https://localhost:8080/",
          "height": 301
        },
        "outputId": "33d4befa-03e0-4bb3-a453-cdfcc92b0425"
      },
      "source": [
        "model.summary()"
      ],
      "execution_count": 42,
      "outputs": [
        {
          "output_type": "stream",
          "text": [
            "Model: \"sequential_6\"\n",
            "_________________________________________________________________\n",
            "Layer (type)                 Output Shape              Param #   \n",
            "=================================================================\n",
            "dense_18 (Dense)             (None, 10)                310       \n",
            "_________________________________________________________________\n",
            "dropout_6 (Dropout)          (None, 10)                0         \n",
            "_________________________________________________________________\n",
            "dense_19 (Dense)             (None, 20)                220       \n",
            "_________________________________________________________________\n",
            "dense_20 (Dense)             (None, 1)                 21        \n",
            "=================================================================\n",
            "Total params: 551\n",
            "Trainable params: 551\n",
            "Non-trainable params: 0\n",
            "_________________________________________________________________\n"
          ],
          "name": "stdout"
        }
      ]
    },
    {
      "cell_type": "code",
      "metadata": {
        "id": "7i_2C7JdVo9D",
        "colab_type": "code",
        "colab": {}
      },
      "source": [
        "model.compile(optimizer='adam', loss='binary_crossentropy', metrics=['accuracy'])"
      ],
      "execution_count": 43,
      "outputs": []
    },
    {
      "cell_type": "code",
      "metadata": {
        "id": "OdMJZC_GV3rN",
        "colab_type": "code",
        "colab": {
          "base_uri": "https://localhost:8080/",
          "height": 1000
        },
        "outputId": "063e45e9-bee6-4469-e422-05c9cf6c9876"
      },
      "source": [
        "history = model.fit(X_train, y_train, epochs = 45, validation_split=0.15)"
      ],
      "execution_count": 44,
      "outputs": [
        {
          "output_type": "stream",
          "text": [
            "Epoch 1/45\n",
            "13/13 [==============================] - 0s 11ms/step - loss: 15.9466 - accuracy: 0.5959 - val_loss: 1.7608 - val_accuracy: 0.7971\n",
            "Epoch 2/45\n",
            "13/13 [==============================] - 0s 3ms/step - loss: 16.6124 - accuracy: 0.5570 - val_loss: 1.3247 - val_accuracy: 0.8116\n",
            "Epoch 3/45\n",
            "13/13 [==============================] - 0s 3ms/step - loss: 12.8881 - accuracy: 0.5699 - val_loss: 1.4350 - val_accuracy: 0.7971\n",
            "Epoch 4/45\n",
            "13/13 [==============================] - 0s 2ms/step - loss: 10.6683 - accuracy: 0.5959 - val_loss: 0.9670 - val_accuracy: 0.8261\n",
            "Epoch 5/45\n",
            "13/13 [==============================] - 0s 2ms/step - loss: 10.5684 - accuracy: 0.5829 - val_loss: 2.2943 - val_accuracy: 0.7536\n",
            "Epoch 6/45\n",
            "13/13 [==============================] - 0s 2ms/step - loss: 8.1037 - accuracy: 0.5440 - val_loss: 0.3519 - val_accuracy: 0.8986\n",
            "Epoch 7/45\n",
            "13/13 [==============================] - 0s 4ms/step - loss: 8.0078 - accuracy: 0.6114 - val_loss: 1.5753 - val_accuracy: 0.7536\n",
            "Epoch 8/45\n",
            "13/13 [==============================] - 0s 3ms/step - loss: 6.1594 - accuracy: 0.5674 - val_loss: 0.4383 - val_accuracy: 0.8551\n",
            "Epoch 9/45\n",
            "13/13 [==============================] - 0s 3ms/step - loss: 4.4472 - accuracy: 0.6606 - val_loss: 0.7734 - val_accuracy: 0.8116\n",
            "Epoch 10/45\n",
            "13/13 [==============================] - 0s 3ms/step - loss: 5.2120 - accuracy: 0.6321 - val_loss: 0.5623 - val_accuracy: 0.8406\n",
            "Epoch 11/45\n",
            "13/13 [==============================] - 0s 2ms/step - loss: 4.0259 - accuracy: 0.6477 - val_loss: 0.7518 - val_accuracy: 0.7826\n",
            "Epoch 12/45\n",
            "13/13 [==============================] - 0s 3ms/step - loss: 4.5784 - accuracy: 0.6269 - val_loss: 0.7443 - val_accuracy: 0.8116\n",
            "Epoch 13/45\n",
            "13/13 [==============================] - 0s 2ms/step - loss: 4.9705 - accuracy: 0.5984 - val_loss: 0.6742 - val_accuracy: 0.8406\n",
            "Epoch 14/45\n",
            "13/13 [==============================] - 0s 3ms/step - loss: 3.1107 - accuracy: 0.6943 - val_loss: 0.8136 - val_accuracy: 0.8116\n",
            "Epoch 15/45\n",
            "13/13 [==============================] - 0s 2ms/step - loss: 2.7580 - accuracy: 0.7047 - val_loss: 0.6697 - val_accuracy: 0.8406\n",
            "Epoch 16/45\n",
            "13/13 [==============================] - 0s 2ms/step - loss: 3.6146 - accuracy: 0.6839 - val_loss: 0.5371 - val_accuracy: 0.8406\n",
            "Epoch 17/45\n",
            "13/13 [==============================] - 0s 3ms/step - loss: 2.4958 - accuracy: 0.7098 - val_loss: 0.3807 - val_accuracy: 0.8696\n",
            "Epoch 18/45\n",
            "13/13 [==============================] - 0s 3ms/step - loss: 2.2403 - accuracy: 0.7176 - val_loss: 0.8475 - val_accuracy: 0.8116\n",
            "Epoch 19/45\n",
            "13/13 [==============================] - 0s 3ms/step - loss: 2.0771 - accuracy: 0.7254 - val_loss: 0.4969 - val_accuracy: 0.8406\n",
            "Epoch 20/45\n",
            "13/13 [==============================] - 0s 3ms/step - loss: 2.9360 - accuracy: 0.7150 - val_loss: 0.3299 - val_accuracy: 0.8986\n",
            "Epoch 21/45\n",
            "13/13 [==============================] - 0s 3ms/step - loss: 2.0320 - accuracy: 0.7306 - val_loss: 0.3759 - val_accuracy: 0.8841\n",
            "Epoch 22/45\n",
            "13/13 [==============================] - 0s 2ms/step - loss: 1.9330 - accuracy: 0.7306 - val_loss: 0.3356 - val_accuracy: 0.8406\n",
            "Epoch 23/45\n",
            "13/13 [==============================] - 0s 2ms/step - loss: 1.8343 - accuracy: 0.7642 - val_loss: 0.3412 - val_accuracy: 0.8551\n",
            "Epoch 24/45\n",
            "13/13 [==============================] - 0s 2ms/step - loss: 1.9751 - accuracy: 0.7383 - val_loss: 0.3671 - val_accuracy: 0.8986\n",
            "Epoch 25/45\n",
            "13/13 [==============================] - 0s 2ms/step - loss: 1.7622 - accuracy: 0.7798 - val_loss: 0.3897 - val_accuracy: 0.8841\n",
            "Epoch 26/45\n",
            "13/13 [==============================] - 0s 2ms/step - loss: 1.5655 - accuracy: 0.7642 - val_loss: 0.5846 - val_accuracy: 0.8261\n",
            "Epoch 27/45\n",
            "13/13 [==============================] - 0s 3ms/step - loss: 1.6813 - accuracy: 0.7461 - val_loss: 0.3347 - val_accuracy: 0.8841\n",
            "Epoch 28/45\n",
            "13/13 [==============================] - 0s 3ms/step - loss: 1.0366 - accuracy: 0.8057 - val_loss: 0.3255 - val_accuracy: 0.8841\n",
            "Epoch 29/45\n",
            "13/13 [==============================] - 0s 2ms/step - loss: 1.4396 - accuracy: 0.7824 - val_loss: 0.2663 - val_accuracy: 0.8841\n",
            "Epoch 30/45\n",
            "13/13 [==============================] - 0s 2ms/step - loss: 1.0378 - accuracy: 0.7746 - val_loss: 0.5236 - val_accuracy: 0.8261\n",
            "Epoch 31/45\n",
            "13/13 [==============================] - 0s 2ms/step - loss: 1.1291 - accuracy: 0.7953 - val_loss: 0.3276 - val_accuracy: 0.8986\n",
            "Epoch 32/45\n",
            "13/13 [==============================] - 0s 2ms/step - loss: 1.1693 - accuracy: 0.8083 - val_loss: 0.2547 - val_accuracy: 0.8986\n",
            "Epoch 33/45\n",
            "13/13 [==============================] - 0s 2ms/step - loss: 1.1513 - accuracy: 0.8264 - val_loss: 0.2853 - val_accuracy: 0.8986\n",
            "Epoch 34/45\n",
            "13/13 [==============================] - 0s 2ms/step - loss: 1.1587 - accuracy: 0.7927 - val_loss: 0.2771 - val_accuracy: 0.8841\n",
            "Epoch 35/45\n",
            "13/13 [==============================] - 0s 2ms/step - loss: 1.1076 - accuracy: 0.7979 - val_loss: 0.2603 - val_accuracy: 0.8986\n",
            "Epoch 36/45\n",
            "13/13 [==============================] - 0s 2ms/step - loss: 0.9304 - accuracy: 0.7876 - val_loss: 0.2969 - val_accuracy: 0.8986\n",
            "Epoch 37/45\n",
            "13/13 [==============================] - 0s 2ms/step - loss: 0.6704 - accuracy: 0.8368 - val_loss: 0.2322 - val_accuracy: 0.9275\n",
            "Epoch 38/45\n",
            "13/13 [==============================] - 0s 3ms/step - loss: 0.7480 - accuracy: 0.8005 - val_loss: 0.4795 - val_accuracy: 0.8406\n",
            "Epoch 39/45\n",
            "13/13 [==============================] - 0s 2ms/step - loss: 1.2314 - accuracy: 0.7902 - val_loss: 0.2480 - val_accuracy: 0.8986\n",
            "Epoch 40/45\n",
            "13/13 [==============================] - 0s 2ms/step - loss: 0.9411 - accuracy: 0.7772 - val_loss: 0.1979 - val_accuracy: 0.9130\n",
            "Epoch 41/45\n",
            "13/13 [==============================] - 0s 2ms/step - loss: 0.8376 - accuracy: 0.8420 - val_loss: 0.2004 - val_accuracy: 0.9130\n",
            "Epoch 42/45\n",
            "13/13 [==============================] - 0s 2ms/step - loss: 0.7119 - accuracy: 0.8497 - val_loss: 0.2032 - val_accuracy: 0.8986\n",
            "Epoch 43/45\n",
            "13/13 [==============================] - 0s 3ms/step - loss: 0.7442 - accuracy: 0.8420 - val_loss: 0.2010 - val_accuracy: 0.8986\n",
            "Epoch 44/45\n",
            "13/13 [==============================] - 0s 3ms/step - loss: 0.7385 - accuracy: 0.8497 - val_loss: 0.2329 - val_accuracy: 0.9275\n",
            "Epoch 45/45\n",
            "13/13 [==============================] - 0s 2ms/step - loss: 0.6360 - accuracy: 0.8420 - val_loss: 0.2032 - val_accuracy: 0.9130\n"
          ],
          "name": "stdout"
        }
      ]
    },
    {
      "cell_type": "code",
      "metadata": {
        "id": "S54aFIwzWYUT",
        "colab_type": "code",
        "colab": {
          "base_uri": "https://localhost:8080/",
          "height": 52
        },
        "outputId": "f44918d8-997c-4102-b499-9ae891b429a2"
      },
      "source": [
        "model.evaluate(X_test, y_test,batch_size=100)"
      ],
      "execution_count": 45,
      "outputs": [
        {
          "output_type": "stream",
          "text": [
            "2/2 [==============================] - 0s 1ms/step - loss: 0.2524 - accuracy: 0.9386\n"
          ],
          "name": "stdout"
        },
        {
          "output_type": "execute_result",
          "data": {
            "text/plain": [
              "[0.2524093687534332, 0.9385964870452881]"
            ]
          },
          "metadata": {
            "tags": []
          },
          "execution_count": 45
        }
      ]
    },
    {
      "cell_type": "code",
      "metadata": {
        "id": "9gXi-VcjW-SY",
        "colab_type": "code",
        "colab": {
          "base_uri": "https://localhost:8080/",
          "height": 282
        },
        "outputId": "3de4a19d-5f4f-4514-9ad3-09942f599ee1"
      },
      "source": [
        "plt.plot(range(45),history.history['loss'])\n",
        "plt.plot(range(45),history.history['val_loss'])\n",
        "plt.legend(['Training Loss','Validation Loss'])"
      ],
      "execution_count": 48,
      "outputs": [
        {
          "output_type": "execute_result",
          "data": {
            "text/plain": [
              "<matplotlib.legend.Legend at 0x7f72467bc630>"
            ]
          },
          "metadata": {
            "tags": []
          },
          "execution_count": 48
        },
        {
          "output_type": "display_data",
          "data": {
            "image/png": "[encoded data removed]",
            "text/plain": [
              "<Figure size 432x288 with 1 Axes>"
            ]
          },
          "metadata": {
            "tags": [],
            "needs_background": "light"
          }
        }
      ]
    },
    {
      "cell_type": "code",
      "metadata": {
        "id": "scd5IKnlYV7L",
        "colab_type": "code",
        "colab": {}
      },
      "source": [
        ""
      ],
      "execution_count": null,
      "outputs": []
    }
  ]
}